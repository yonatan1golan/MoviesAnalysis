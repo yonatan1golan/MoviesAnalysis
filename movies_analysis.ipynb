{
 "cells": [
  {
   "cell_type": "markdown",
   "source": [
    "# Movies Analysis\n",
    "### Dataset taken from Kaggle"
   ],
   "metadata": {
    "collapsed": false,
    "pycharm": {
     "name": "#%% md\n"
    }
   }
  },
  {
   "cell_type": "markdown",
   "source": [
    "## Imports"
   ],
   "metadata": {
    "collapsed": false,
    "pycharm": {
     "name": "#%% md\n"
    }
   }
  },
  {
   "cell_type": "code",
   "execution_count": 845,
   "outputs": [],
   "source": [
    "import pandas as pd\n",
    "import numpy as np\n",
    "import regex as re"
   ],
   "metadata": {
    "collapsed": false,
    "pycharm": {
     "name": "#%%\n"
    }
   }
  },
  {
   "cell_type": "code",
   "execution_count": 846,
   "outputs": [
    {
     "data": {
      "text/plain": "                                MOVIES         YEAR  \\\n0                        Blood Red Sky       (2021)   \n1  Masters of the Universe: Revelation     (2021– )   \n2                     The Walking Dead  (2010–2022)   \n3                       Rick and Morty     (2013– )   \n4                      Army of Thieves       (2021)   \n5                          Outer Banks     (2020– )   \n6      The Last Letter from Your Lover       (2021)   \n7                               Dexter  (2006–2013)   \n8                    Never Have I Ever     (2020– )   \n9                         Virgin River     (2019– )   \n\n                                        GENRE  RATING  \\\n0      \\nAction, Horror, Thriller                 6.1   \n1  \\nAnimation, Action, Adventure                 5.0   \n2       \\nDrama, Horror, Thriller                 8.2   \n3  \\nAnimation, Adventure, Comedy                 9.2   \n4         \\nAction, Crime, Horror                 NaN   \n5          \\nAction, Crime, Drama                 7.6   \n6                \\nDrama, Romance                 6.8   \n7         \\nCrime, Drama, Mystery                 8.6   \n8                        \\nComedy                 7.9   \n9                \\nDrama, Romance                 7.4   \n\n                                            ONE-LINE  \\\n0  \\nA woman with a mysterious illness is forced ...   \n1  \\nThe war for Eternia begins again in what may...   \n2  \\nSheriff Deputy Rick Grimes wakes up from a c...   \n3  \\nAn animated series that follows the exploits...   \n4  \\nA prequel, set before the events of Army of ...   \n5  \\nA group of teenagers from the wrong side of ...   \n6  \\nA pair of interwoven stories set in the past...   \n7  \\nBy day, mild-mannered Dexter is a blood-spat...   \n8  \\nThe complicated life of a modern-day first g...   \n9  \\nSeeking a fresh start, nurse practitioner Me...   \n\n                                               STARS    VOTES  RunTime Gross  \n0  \\n    Director:\\nPeter Thorwarth\\n| \\n    Star...   21,062    121.0   NaN  \n1  \\n            \\n    Stars:\\nChris Wood, \\nSara...   17,870     25.0   NaN  \n2  \\n            \\n    Stars:\\nAndrew Lincoln, \\n...  885,805     44.0   NaN  \n3  \\n            \\n    Stars:\\nJustin Roiland, \\n...  414,849     23.0   NaN  \n4  \\n    Director:\\nMatthias Schweighöfer\\n| \\n  ...      NaN      NaN   NaN  \n5  \\n            \\n    Stars:\\nChase Stokes, \\nMa...   25,858     50.0   NaN  \n6  \\n    Director:\\nAugustine Frizzell\\n| \\n    S...    5,283    110.0   NaN  \n7  \\n            \\n    Stars:\\nMichael C. Hall, \\...  665,387     53.0   NaN  \n8  \\n            \\n    Stars:\\nMaitreyi Ramakrish...   34,530     30.0   NaN  \n9  \\n            \\n    Stars:\\nAlexandra Breckenr...   27,279     44.0   NaN  ",
      "text/html": "<div>\n<style scoped>\n    .dataframe tbody tr th:only-of-type {\n        vertical-align: middle;\n    }\n\n    .dataframe tbody tr th {\n        vertical-align: top;\n    }\n\n    .dataframe thead th {\n        text-align: right;\n    }\n</style>\n<table border=\"1\" class=\"dataframe\">\n  <thead>\n    <tr style=\"text-align: right;\">\n      <th></th>\n      <th>MOVIES</th>\n      <th>YEAR</th>\n      <th>GENRE</th>\n      <th>RATING</th>\n      <th>ONE-LINE</th>\n      <th>STARS</th>\n      <th>VOTES</th>\n      <th>RunTime</th>\n      <th>Gross</th>\n    </tr>\n  </thead>\n  <tbody>\n    <tr>\n      <th>0</th>\n      <td>Blood Red Sky</td>\n      <td>(2021)</td>\n      <td>\\nAction, Horror, Thriller</td>\n      <td>6.1</td>\n      <td>\\nA woman with a mysterious illness is forced ...</td>\n      <td>\\n    Director:\\nPeter Thorwarth\\n| \\n    Star...</td>\n      <td>21,062</td>\n      <td>121.0</td>\n      <td>NaN</td>\n    </tr>\n    <tr>\n      <th>1</th>\n      <td>Masters of the Universe: Revelation</td>\n      <td>(2021– )</td>\n      <td>\\nAnimation, Action, Adventure</td>\n      <td>5.0</td>\n      <td>\\nThe war for Eternia begins again in what may...</td>\n      <td>\\n            \\n    Stars:\\nChris Wood, \\nSara...</td>\n      <td>17,870</td>\n      <td>25.0</td>\n      <td>NaN</td>\n    </tr>\n    <tr>\n      <th>2</th>\n      <td>The Walking Dead</td>\n      <td>(2010–2022)</td>\n      <td>\\nDrama, Horror, Thriller</td>\n      <td>8.2</td>\n      <td>\\nSheriff Deputy Rick Grimes wakes up from a c...</td>\n      <td>\\n            \\n    Stars:\\nAndrew Lincoln, \\n...</td>\n      <td>885,805</td>\n      <td>44.0</td>\n      <td>NaN</td>\n    </tr>\n    <tr>\n      <th>3</th>\n      <td>Rick and Morty</td>\n      <td>(2013– )</td>\n      <td>\\nAnimation, Adventure, Comedy</td>\n      <td>9.2</td>\n      <td>\\nAn animated series that follows the exploits...</td>\n      <td>\\n            \\n    Stars:\\nJustin Roiland, \\n...</td>\n      <td>414,849</td>\n      <td>23.0</td>\n      <td>NaN</td>\n    </tr>\n    <tr>\n      <th>4</th>\n      <td>Army of Thieves</td>\n      <td>(2021)</td>\n      <td>\\nAction, Crime, Horror</td>\n      <td>NaN</td>\n      <td>\\nA prequel, set before the events of Army of ...</td>\n      <td>\\n    Director:\\nMatthias Schweighöfer\\n| \\n  ...</td>\n      <td>NaN</td>\n      <td>NaN</td>\n      <td>NaN</td>\n    </tr>\n    <tr>\n      <th>5</th>\n      <td>Outer Banks</td>\n      <td>(2020– )</td>\n      <td>\\nAction, Crime, Drama</td>\n      <td>7.6</td>\n      <td>\\nA group of teenagers from the wrong side of ...</td>\n      <td>\\n            \\n    Stars:\\nChase Stokes, \\nMa...</td>\n      <td>25,858</td>\n      <td>50.0</td>\n      <td>NaN</td>\n    </tr>\n    <tr>\n      <th>6</th>\n      <td>The Last Letter from Your Lover</td>\n      <td>(2021)</td>\n      <td>\\nDrama, Romance</td>\n      <td>6.8</td>\n      <td>\\nA pair of interwoven stories set in the past...</td>\n      <td>\\n    Director:\\nAugustine Frizzell\\n| \\n    S...</td>\n      <td>5,283</td>\n      <td>110.0</td>\n      <td>NaN</td>\n    </tr>\n    <tr>\n      <th>7</th>\n      <td>Dexter</td>\n      <td>(2006–2013)</td>\n      <td>\\nCrime, Drama, Mystery</td>\n      <td>8.6</td>\n      <td>\\nBy day, mild-mannered Dexter is a blood-spat...</td>\n      <td>\\n            \\n    Stars:\\nMichael C. Hall, \\...</td>\n      <td>665,387</td>\n      <td>53.0</td>\n      <td>NaN</td>\n    </tr>\n    <tr>\n      <th>8</th>\n      <td>Never Have I Ever</td>\n      <td>(2020– )</td>\n      <td>\\nComedy</td>\n      <td>7.9</td>\n      <td>\\nThe complicated life of a modern-day first g...</td>\n      <td>\\n            \\n    Stars:\\nMaitreyi Ramakrish...</td>\n      <td>34,530</td>\n      <td>30.0</td>\n      <td>NaN</td>\n    </tr>\n    <tr>\n      <th>9</th>\n      <td>Virgin River</td>\n      <td>(2019– )</td>\n      <td>\\nDrama, Romance</td>\n      <td>7.4</td>\n      <td>\\nSeeking a fresh start, nurse practitioner Me...</td>\n      <td>\\n            \\n    Stars:\\nAlexandra Breckenr...</td>\n      <td>27,279</td>\n      <td>44.0</td>\n      <td>NaN</td>\n    </tr>\n  </tbody>\n</table>\n</div>"
     },
     "execution_count": 846,
     "metadata": {},
     "output_type": "execute_result"
    }
   ],
   "source": [
    "def load_data(loc: str) -> pd.DataFrame:\n",
    "    \"\"\"\n",
    "    :param loc: location of the dataset file\n",
    "    :return: pandas dataframe loaded with the dataset\n",
    "    \"\"\"\n",
    "    return pd.read_csv(loc)\n",
    "\n",
    "location = r\"C:\\Users\\Yonat\\OneDrive\\Desktop\\python_projects\\movies_analysis\\movies.csv\"\n",
    "data = load_data(location)\n",
    "data.head(10)"
   ],
   "metadata": {
    "collapsed": false,
    "pycharm": {
     "name": "#%%\n"
    }
   }
  },
  {
   "cell_type": "markdown",
   "source": [
    "## Re-arraging the dataset"
   ],
   "metadata": {
    "collapsed": false,
    "pycharm": {
     "name": "#%% md\n"
    }
   }
  },
  {
   "cell_type": "code",
   "execution_count": 847,
   "outputs": [
    {
     "data": {
      "text/plain": "                                 TITLE         YEAR  \\\n0                        Blood Red Sky       (2021)   \n1  Masters of the Universe: Revelation     (2021– )   \n2                     The Walking Dead  (2010–2022)   \n3                       Rick and Morty     (2013– )   \n4                      Army of Thieves       (2021)   \n5                          Outer Banks     (2020– )   \n6      The Last Letter from Your Lover       (2021)   \n7                               Dexter  (2006–2013)   \n8                    Never Have I Ever     (2020– )   \n9                         Virgin River     (2019– )   \n\n                                        GENRE  RATING  \\\n0      \\nAction, Horror, Thriller                 6.1   \n1  \\nAnimation, Action, Adventure                 5.0   \n2       \\nDrama, Horror, Thriller                 8.2   \n3  \\nAnimation, Adventure, Comedy                 9.2   \n4         \\nAction, Crime, Horror                 NaN   \n5          \\nAction, Crime, Drama                 7.6   \n6                \\nDrama, Romance                 6.8   \n7         \\nCrime, Drama, Mystery                 8.6   \n8                        \\nComedy                 7.9   \n9                \\nDrama, Romance                 7.4   \n\n                                               STARS    VOTES  DURATION GROSS  \n0  \\n    Director:\\nPeter Thorwarth\\n| \\n    Star...   21,062     121.0   NaN  \n1  \\n            \\n    Stars:\\nChris Wood, \\nSara...   17,870      25.0   NaN  \n2  \\n            \\n    Stars:\\nAndrew Lincoln, \\n...  885,805      44.0   NaN  \n3  \\n            \\n    Stars:\\nJustin Roiland, \\n...  414,849      23.0   NaN  \n4  \\n    Director:\\nMatthias Schweighöfer\\n| \\n  ...      NaN       NaN   NaN  \n5  \\n            \\n    Stars:\\nChase Stokes, \\nMa...   25,858      50.0   NaN  \n6  \\n    Director:\\nAugustine Frizzell\\n| \\n    S...    5,283     110.0   NaN  \n7  \\n            \\n    Stars:\\nMichael C. Hall, \\...  665,387      53.0   NaN  \n8  \\n            \\n    Stars:\\nMaitreyi Ramakrish...   34,530      30.0   NaN  \n9  \\n            \\n    Stars:\\nAlexandra Breckenr...   27,279      44.0   NaN  ",
      "text/html": "<div>\n<style scoped>\n    .dataframe tbody tr th:only-of-type {\n        vertical-align: middle;\n    }\n\n    .dataframe tbody tr th {\n        vertical-align: top;\n    }\n\n    .dataframe thead th {\n        text-align: right;\n    }\n</style>\n<table border=\"1\" class=\"dataframe\">\n  <thead>\n    <tr style=\"text-align: right;\">\n      <th></th>\n      <th>TITLE</th>\n      <th>YEAR</th>\n      <th>GENRE</th>\n      <th>RATING</th>\n      <th>STARS</th>\n      <th>VOTES</th>\n      <th>DURATION</th>\n      <th>GROSS</th>\n    </tr>\n  </thead>\n  <tbody>\n    <tr>\n      <th>0</th>\n      <td>Blood Red Sky</td>\n      <td>(2021)</td>\n      <td>\\nAction, Horror, Thriller</td>\n      <td>6.1</td>\n      <td>\\n    Director:\\nPeter Thorwarth\\n| \\n    Star...</td>\n      <td>21,062</td>\n      <td>121.0</td>\n      <td>NaN</td>\n    </tr>\n    <tr>\n      <th>1</th>\n      <td>Masters of the Universe: Revelation</td>\n      <td>(2021– )</td>\n      <td>\\nAnimation, Action, Adventure</td>\n      <td>5.0</td>\n      <td>\\n            \\n    Stars:\\nChris Wood, \\nSara...</td>\n      <td>17,870</td>\n      <td>25.0</td>\n      <td>NaN</td>\n    </tr>\n    <tr>\n      <th>2</th>\n      <td>The Walking Dead</td>\n      <td>(2010–2022)</td>\n      <td>\\nDrama, Horror, Thriller</td>\n      <td>8.2</td>\n      <td>\\n            \\n    Stars:\\nAndrew Lincoln, \\n...</td>\n      <td>885,805</td>\n      <td>44.0</td>\n      <td>NaN</td>\n    </tr>\n    <tr>\n      <th>3</th>\n      <td>Rick and Morty</td>\n      <td>(2013– )</td>\n      <td>\\nAnimation, Adventure, Comedy</td>\n      <td>9.2</td>\n      <td>\\n            \\n    Stars:\\nJustin Roiland, \\n...</td>\n      <td>414,849</td>\n      <td>23.0</td>\n      <td>NaN</td>\n    </tr>\n    <tr>\n      <th>4</th>\n      <td>Army of Thieves</td>\n      <td>(2021)</td>\n      <td>\\nAction, Crime, Horror</td>\n      <td>NaN</td>\n      <td>\\n    Director:\\nMatthias Schweighöfer\\n| \\n  ...</td>\n      <td>NaN</td>\n      <td>NaN</td>\n      <td>NaN</td>\n    </tr>\n    <tr>\n      <th>5</th>\n      <td>Outer Banks</td>\n      <td>(2020– )</td>\n      <td>\\nAction, Crime, Drama</td>\n      <td>7.6</td>\n      <td>\\n            \\n    Stars:\\nChase Stokes, \\nMa...</td>\n      <td>25,858</td>\n      <td>50.0</td>\n      <td>NaN</td>\n    </tr>\n    <tr>\n      <th>6</th>\n      <td>The Last Letter from Your Lover</td>\n      <td>(2021)</td>\n      <td>\\nDrama, Romance</td>\n      <td>6.8</td>\n      <td>\\n    Director:\\nAugustine Frizzell\\n| \\n    S...</td>\n      <td>5,283</td>\n      <td>110.0</td>\n      <td>NaN</td>\n    </tr>\n    <tr>\n      <th>7</th>\n      <td>Dexter</td>\n      <td>(2006–2013)</td>\n      <td>\\nCrime, Drama, Mystery</td>\n      <td>8.6</td>\n      <td>\\n            \\n    Stars:\\nMichael C. Hall, \\...</td>\n      <td>665,387</td>\n      <td>53.0</td>\n      <td>NaN</td>\n    </tr>\n    <tr>\n      <th>8</th>\n      <td>Never Have I Ever</td>\n      <td>(2020– )</td>\n      <td>\\nComedy</td>\n      <td>7.9</td>\n      <td>\\n            \\n    Stars:\\nMaitreyi Ramakrish...</td>\n      <td>34,530</td>\n      <td>30.0</td>\n      <td>NaN</td>\n    </tr>\n    <tr>\n      <th>9</th>\n      <td>Virgin River</td>\n      <td>(2019– )</td>\n      <td>\\nDrama, Romance</td>\n      <td>7.4</td>\n      <td>\\n            \\n    Stars:\\nAlexandra Breckenr...</td>\n      <td>27,279</td>\n      <td>44.0</td>\n      <td>NaN</td>\n    </tr>\n  </tbody>\n</table>\n</div>"
     },
     "execution_count": 847,
     "metadata": {},
     "output_type": "execute_result"
    }
   ],
   "source": [
    "# Removing unnecessary columns\n",
    "to_drop = ['ONE-LINE']\n",
    "data.drop(columns = to_drop, axis=1, inplace=True)\n",
    "\n",
    "# Renaming columns\n",
    "new_names = {'MOVIES': 'TITLE',\n",
    "             'RunTime': 'DURATION',\n",
    "             'Gross': 'GROSS'}\n",
    "data.rename(columns = new_names, inplace= True)\n",
    "data.head(10)"
   ],
   "metadata": {
    "collapsed": false,
    "pycharm": {
     "name": "#%%\n"
    }
   }
  },
  {
   "cell_type": "code",
   "execution_count": 848,
   "outputs": [],
   "source": [
    "# Re-arranging director and stars columns\n",
    "data[\"STARS\"] = data[\"STARS\"].str.replace('Stars', 'Star')\n",
    "data[['DIRECTORS', 'STAR']] = data['STARS'].str.split('Star:', expand=True)\n",
    "\n",
    "data.drop(columns = [\"STARS\", \"STAR\"], axis=1, inplace=True) # removing stars column\n",
    "data.drop_duplicates([\"TITLE\", \"YEAR\"], keep=\"first\", inplace = True) # dropping duplicates based on year and title, and keeping the first value\n",
    "data = data.sort_values(by=\"TITLE\").reset_index().drop(columns=\"index\") #sorting by title\n",
    "\n",
    "# Director\n",
    "remove_dic = {'\\n': '', '|': ''}\n",
    "data[\"DIRECTORS\"] = data[\"DIRECTORS\"].apply(lambda x: x.translate(str.maketrans(remove_dic)))\n",
    "data[\"DIRECTORS\"] = data[\"DIRECTORS\"].str.replace('Directors', 'Director')\n",
    "data[\"DIRECTORS\"] = data[\"DIRECTORS\"].str.replace('Director:', '')\n",
    "\n",
    "# seperating the directors to a list\n",
    "separator_map = {\", \":\",\" , \" ,\": \",\" , \" , \": \",\" }\n",
    "data[\"DIRECTORS\"] = data[\"DIRECTORS\"].replace(separator_map, regex = True)\n",
    "data[\"DIRECTORS\"] = data[\"DIRECTORS\"].str.split(',') # splitting the string to a list\n",
    "data[\"DIRECTORS\"] = data[\"DIRECTORS\"].apply(lambda x: [s.strip() for s in x]) # remove redundant spaces"
   ],
   "metadata": {
    "collapsed": false,
    "pycharm": {
     "name": "#%%\n"
    }
   }
  },
  {
   "cell_type": "code",
   "execution_count": 849,
   "outputs": [],
   "source": [
    "# Genre column\n",
    "data[\"GENRE\"].replace({np.nan: ''}, inplace=True) # replacing nan values with null\n",
    "data[\"GENRE\"] = data[\"GENRE\"].replace(\"\\n\", \"\", regex = True) # removing the \\n\n",
    "data[\"GENRE\"] = data[\"GENRE\"].str.split(',', regex = True) # splitting the string to a list\n",
    "data[\"GENRE\"] = data[\"GENRE\"].apply(lambda x: [s.strip() for s in x]) # remove redundant spaces"
   ],
   "metadata": {
    "collapsed": false,
    "pycharm": {
     "name": "#%%\n"
    }
   }
  },
  {
   "cell_type": "code",
   "execution_count": 850,
   "outputs": [],
   "source": [
    "# marking which row is a movie or a tv-show, based on the year: if it has \"-\" in it its a tv show\n",
    "data[\"LABEL\"] = None\n",
    "data[\"YEAR\"].replace({np.nan: ''}, inplace=True) # replacing nan values with null\n",
    "data[\"YEAR\"] = [re.sub(r'[^\\d–]', '', re.search(r'\\(([^)]*)\\)', s).group(1)) if re.search(r'\\(([^)]*)\\)', s) else '' for s in data[\"YEAR\"]] # extract the year\n",
    "for index, val in data['YEAR'].items():\n",
    "    if '–' in val: data.loc[index, \"LABEL\"] = \"TV-Show\"\n",
    "    elif val.isdigit(): data.loc[index, \"LABEL\"] = \"Movie\"\n",
    "    elif val == '': data.loc[index, \"LABEL\"] = ''"
   ],
   "metadata": {
    "collapsed": false,
    "pycharm": {
     "name": "#%%\n"
    }
   }
  },
  {
   "cell_type": "code",
   "execution_count": 851,
   "outputs": [
    {
     "data": {
      "text/plain": "                                TITLE       YEAR  \\\n0                      13 Reasons Why  2017–2020   \n1                                1899      2022–   \n2            3Below: Tales of Arcadia  2018–2019   \n3                                50M2      2021–   \n4                              7Seeds  2019–2020   \n5                          800 metros      2021–   \n6                      A Suitable Boy      2020–   \n7                Ada Twist, Scientist      2021–   \n8                          After Life      2019–   \n9    Age of Samurai: Battle for Japan      2021–   \n10          AlRawabi School for Girls       2021   \n11                               Alex  2017–2019   \n12            Alguien tiene que morir       2020   \n13                Alice in Borderland      2020–   \n14                           Alta mar  2019–2020   \n15                American Experience      1988–   \n16                   American Masters      1985–   \n19                               Anne  2017–2019   \n20                             Arcane      2021–   \n22       Army of the Dead: Lost Vegas      2022–   \n23                  Aseudal Yeondaegi      2019–   \n24                            Ask 101      2020–   \n25                     Astronomy Club       2019   \n26                            Astérix       2023   \n27         Avatar: The Last Airbender  2005–2008   \n29                               Baby  2018–2020   \n30                               Baki  2018–2020   \n31                   Bangkok Breaking      2021–   \n32                         Barbarians      2020–   \n33                       Battle Kitty      2022–   \n\n                                GENRE  RATING  VOTES  DURATION GROSS  \\\n0          [Drama, Mystery, Thriller]     5.7  1,798      59.0   NaN   \n1            [Drama, History, Horror]     NaN    NaN       NaN   NaN   \n2      [Animation, Action, Adventure]     7.9    143      22.0   NaN   \n3           [Comedy, Drama, Thriller]     6.9    148      51.0   NaN   \n4      [Animation, Action, Adventure]     6.9     48      24.0   NaN   \n5                       [Documentary]     NaN    NaN       NaN   NaN   \n6                    [Drama, Romance]     6.1    156      58.0   NaN   \n7      [Animation, Adventure, Comedy]     NaN    NaN       NaN   NaN   \n8                     [Comedy, Drama]     7.9  1,942      27.0   NaN   \n9    [Documentary, Action, Adventure]     7.4    215      43.0   NaN   \n10                            [Drama]     NaN    NaN       NaN   NaN   \n11          [Action, Crime, Thriller]     7.3     30      47.0   NaN   \n12           [Crime, Drama, Thriller]     6.8    204      49.0   NaN   \n13         [Action, Fantasy, Mystery]     7.6    977      47.0   NaN   \n14            [Crime, Drama, Mystery]     7.5    126       NaN   NaN   \n15  [Documentary, Biography, History]     6.6     41      90.0   NaN   \n16           [Documentary, Biography]     7.8    142      87.0   NaN   \n19                    [Drama, Family]     9.0  1,541      44.0   NaN   \n20     [Animation, Action, Adventure]     NaN    NaN       NaN   NaN   \n22         [Animation, Action, Crime]     NaN    NaN       NaN   NaN   \n23           [Action, Drama, Fantasy]     8.3    202      80.0   NaN   \n24           [Comedy, Drama, Romance]     7.1    377       NaN   NaN   \n25                           [Comedy]     6.4     38       NaN   NaN   \n26     [Animation, Action, Adventure]     NaN    NaN       NaN   NaN   \n27     [Animation, Action, Adventure]     7.6  2,871      24.0   NaN   \n29                            [Drama]     7.6    146      49.0   NaN   \n30         [Animation, Action, Drama]     7.2     70      24.0   NaN   \n31             [Action, Crime, Drama]     NaN    NaN       NaN   NaN   \n32         [Action, Adventure, Drama]     8.1    939      49.0   NaN   \n33     [Animation, Action, Adventure]     NaN    NaN       NaN   NaN   \n\n                            DIRECTORS    LABEL  \n0                   [Russell Mulcahy]  TV-Show  \n1                     [Baran bo Odar]  TV-Show  \n2                 [Andrew L. Schmidt]  TV-Show  \n3                    [Selçuk Aydemir]  TV-Show  \n4                                  []  TV-Show  \n5                    [León Siminiani]  TV-Show  \n6                         [Mira Nair]  TV-Show  \n7                                  []  TV-Show  \n8                     [Ricky Gervais]  TV-Show  \n9                     [Stephen Scott]  TV-Show  \n10                     [Tima Shomali]    Movie  \n11                    [Alain Darborg]  TV-Show  \n12                      [Manolo Caro]    Movie  \n13                    [Shinsuke Sato]  TV-Show  \n14             [Manuel Gómez Pereira]  TV-Show  \n15                 [David Sutherland]  TV-Show  \n16                     [Bruce Ricker]  TV-Show  \n19                       [Kim Nguyen]  TV-Show  \n20                                 []  TV-Show  \n22                                 []  TV-Show  \n23                      [Won Suk Kim]  TV-Show  \n24                   [Ahmet Katiksiz]  TV-Show  \n25  [J.J. Adler, Ryan Anthony Martin]    Movie  \n26                                 []    Movie  \n27                 [Lauren MacMullan]  TV-Show  \n29                   [Andrea De Sica]  TV-Show  \n30                   [Toshiki Hirano]  TV-Show  \n31                [Kongkiat Khomsiri]  TV-Show  \n32                [Steve Saint Leger]  TV-Show  \n33                                 []  TV-Show  ",
      "text/html": "<div>\n<style scoped>\n    .dataframe tbody tr th:only-of-type {\n        vertical-align: middle;\n    }\n\n    .dataframe tbody tr th {\n        vertical-align: top;\n    }\n\n    .dataframe thead th {\n        text-align: right;\n    }\n</style>\n<table border=\"1\" class=\"dataframe\">\n  <thead>\n    <tr style=\"text-align: right;\">\n      <th></th>\n      <th>TITLE</th>\n      <th>YEAR</th>\n      <th>GENRE</th>\n      <th>RATING</th>\n      <th>VOTES</th>\n      <th>DURATION</th>\n      <th>GROSS</th>\n      <th>DIRECTORS</th>\n      <th>LABEL</th>\n    </tr>\n  </thead>\n  <tbody>\n    <tr>\n      <th>0</th>\n      <td>13 Reasons Why</td>\n      <td>2017–2020</td>\n      <td>[Drama, Mystery, Thriller]</td>\n      <td>5.7</td>\n      <td>1,798</td>\n      <td>59.0</td>\n      <td>NaN</td>\n      <td>[Russell Mulcahy]</td>\n      <td>TV-Show</td>\n    </tr>\n    <tr>\n      <th>1</th>\n      <td>1899</td>\n      <td>2022–</td>\n      <td>[Drama, History, Horror]</td>\n      <td>NaN</td>\n      <td>NaN</td>\n      <td>NaN</td>\n      <td>NaN</td>\n      <td>[Baran bo Odar]</td>\n      <td>TV-Show</td>\n    </tr>\n    <tr>\n      <th>2</th>\n      <td>3Below: Tales of Arcadia</td>\n      <td>2018–2019</td>\n      <td>[Animation, Action, Adventure]</td>\n      <td>7.9</td>\n      <td>143</td>\n      <td>22.0</td>\n      <td>NaN</td>\n      <td>[Andrew L. Schmidt]</td>\n      <td>TV-Show</td>\n    </tr>\n    <tr>\n      <th>3</th>\n      <td>50M2</td>\n      <td>2021–</td>\n      <td>[Comedy, Drama, Thriller]</td>\n      <td>6.9</td>\n      <td>148</td>\n      <td>51.0</td>\n      <td>NaN</td>\n      <td>[Selçuk Aydemir]</td>\n      <td>TV-Show</td>\n    </tr>\n    <tr>\n      <th>4</th>\n      <td>7Seeds</td>\n      <td>2019–2020</td>\n      <td>[Animation, Action, Adventure]</td>\n      <td>6.9</td>\n      <td>48</td>\n      <td>24.0</td>\n      <td>NaN</td>\n      <td>[]</td>\n      <td>TV-Show</td>\n    </tr>\n    <tr>\n      <th>5</th>\n      <td>800 metros</td>\n      <td>2021–</td>\n      <td>[Documentary]</td>\n      <td>NaN</td>\n      <td>NaN</td>\n      <td>NaN</td>\n      <td>NaN</td>\n      <td>[León Siminiani]</td>\n      <td>TV-Show</td>\n    </tr>\n    <tr>\n      <th>6</th>\n      <td>A Suitable Boy</td>\n      <td>2020–</td>\n      <td>[Drama, Romance]</td>\n      <td>6.1</td>\n      <td>156</td>\n      <td>58.0</td>\n      <td>NaN</td>\n      <td>[Mira Nair]</td>\n      <td>TV-Show</td>\n    </tr>\n    <tr>\n      <th>7</th>\n      <td>Ada Twist, Scientist</td>\n      <td>2021–</td>\n      <td>[Animation, Adventure, Comedy]</td>\n      <td>NaN</td>\n      <td>NaN</td>\n      <td>NaN</td>\n      <td>NaN</td>\n      <td>[]</td>\n      <td>TV-Show</td>\n    </tr>\n    <tr>\n      <th>8</th>\n      <td>After Life</td>\n      <td>2019–</td>\n      <td>[Comedy, Drama]</td>\n      <td>7.9</td>\n      <td>1,942</td>\n      <td>27.0</td>\n      <td>NaN</td>\n      <td>[Ricky Gervais]</td>\n      <td>TV-Show</td>\n    </tr>\n    <tr>\n      <th>9</th>\n      <td>Age of Samurai: Battle for Japan</td>\n      <td>2021–</td>\n      <td>[Documentary, Action, Adventure]</td>\n      <td>7.4</td>\n      <td>215</td>\n      <td>43.0</td>\n      <td>NaN</td>\n      <td>[Stephen Scott]</td>\n      <td>TV-Show</td>\n    </tr>\n    <tr>\n      <th>10</th>\n      <td>AlRawabi School for Girls</td>\n      <td>2021</td>\n      <td>[Drama]</td>\n      <td>NaN</td>\n      <td>NaN</td>\n      <td>NaN</td>\n      <td>NaN</td>\n      <td>[Tima Shomali]</td>\n      <td>Movie</td>\n    </tr>\n    <tr>\n      <th>11</th>\n      <td>Alex</td>\n      <td>2017–2019</td>\n      <td>[Action, Crime, Thriller]</td>\n      <td>7.3</td>\n      <td>30</td>\n      <td>47.0</td>\n      <td>NaN</td>\n      <td>[Alain Darborg]</td>\n      <td>TV-Show</td>\n    </tr>\n    <tr>\n      <th>12</th>\n      <td>Alguien tiene que morir</td>\n      <td>2020</td>\n      <td>[Crime, Drama, Thriller]</td>\n      <td>6.8</td>\n      <td>204</td>\n      <td>49.0</td>\n      <td>NaN</td>\n      <td>[Manolo Caro]</td>\n      <td>Movie</td>\n    </tr>\n    <tr>\n      <th>13</th>\n      <td>Alice in Borderland</td>\n      <td>2020–</td>\n      <td>[Action, Fantasy, Mystery]</td>\n      <td>7.6</td>\n      <td>977</td>\n      <td>47.0</td>\n      <td>NaN</td>\n      <td>[Shinsuke Sato]</td>\n      <td>TV-Show</td>\n    </tr>\n    <tr>\n      <th>14</th>\n      <td>Alta mar</td>\n      <td>2019–2020</td>\n      <td>[Crime, Drama, Mystery]</td>\n      <td>7.5</td>\n      <td>126</td>\n      <td>NaN</td>\n      <td>NaN</td>\n      <td>[Manuel Gómez Pereira]</td>\n      <td>TV-Show</td>\n    </tr>\n    <tr>\n      <th>15</th>\n      <td>American Experience</td>\n      <td>1988–</td>\n      <td>[Documentary, Biography, History]</td>\n      <td>6.6</td>\n      <td>41</td>\n      <td>90.0</td>\n      <td>NaN</td>\n      <td>[David Sutherland]</td>\n      <td>TV-Show</td>\n    </tr>\n    <tr>\n      <th>16</th>\n      <td>American Masters</td>\n      <td>1985–</td>\n      <td>[Documentary, Biography]</td>\n      <td>7.8</td>\n      <td>142</td>\n      <td>87.0</td>\n      <td>NaN</td>\n      <td>[Bruce Ricker]</td>\n      <td>TV-Show</td>\n    </tr>\n    <tr>\n      <th>19</th>\n      <td>Anne</td>\n      <td>2017–2019</td>\n      <td>[Drama, Family]</td>\n      <td>9.0</td>\n      <td>1,541</td>\n      <td>44.0</td>\n      <td>NaN</td>\n      <td>[Kim Nguyen]</td>\n      <td>TV-Show</td>\n    </tr>\n    <tr>\n      <th>20</th>\n      <td>Arcane</td>\n      <td>2021–</td>\n      <td>[Animation, Action, Adventure]</td>\n      <td>NaN</td>\n      <td>NaN</td>\n      <td>NaN</td>\n      <td>NaN</td>\n      <td>[]</td>\n      <td>TV-Show</td>\n    </tr>\n    <tr>\n      <th>22</th>\n      <td>Army of the Dead: Lost Vegas</td>\n      <td>2022–</td>\n      <td>[Animation, Action, Crime]</td>\n      <td>NaN</td>\n      <td>NaN</td>\n      <td>NaN</td>\n      <td>NaN</td>\n      <td>[]</td>\n      <td>TV-Show</td>\n    </tr>\n    <tr>\n      <th>23</th>\n      <td>Aseudal Yeondaegi</td>\n      <td>2019–</td>\n      <td>[Action, Drama, Fantasy]</td>\n      <td>8.3</td>\n      <td>202</td>\n      <td>80.0</td>\n      <td>NaN</td>\n      <td>[Won Suk Kim]</td>\n      <td>TV-Show</td>\n    </tr>\n    <tr>\n      <th>24</th>\n      <td>Ask 101</td>\n      <td>2020–</td>\n      <td>[Comedy, Drama, Romance]</td>\n      <td>7.1</td>\n      <td>377</td>\n      <td>NaN</td>\n      <td>NaN</td>\n      <td>[Ahmet Katiksiz]</td>\n      <td>TV-Show</td>\n    </tr>\n    <tr>\n      <th>25</th>\n      <td>Astronomy Club</td>\n      <td>2019</td>\n      <td>[Comedy]</td>\n      <td>6.4</td>\n      <td>38</td>\n      <td>NaN</td>\n      <td>NaN</td>\n      <td>[J.J. Adler, Ryan Anthony Martin]</td>\n      <td>Movie</td>\n    </tr>\n    <tr>\n      <th>26</th>\n      <td>Astérix</td>\n      <td>2023</td>\n      <td>[Animation, Action, Adventure]</td>\n      <td>NaN</td>\n      <td>NaN</td>\n      <td>NaN</td>\n      <td>NaN</td>\n      <td>[]</td>\n      <td>Movie</td>\n    </tr>\n    <tr>\n      <th>27</th>\n      <td>Avatar: The Last Airbender</td>\n      <td>2005–2008</td>\n      <td>[Animation, Action, Adventure]</td>\n      <td>7.6</td>\n      <td>2,871</td>\n      <td>24.0</td>\n      <td>NaN</td>\n      <td>[Lauren MacMullan]</td>\n      <td>TV-Show</td>\n    </tr>\n    <tr>\n      <th>29</th>\n      <td>Baby</td>\n      <td>2018–2020</td>\n      <td>[Drama]</td>\n      <td>7.6</td>\n      <td>146</td>\n      <td>49.0</td>\n      <td>NaN</td>\n      <td>[Andrea De Sica]</td>\n      <td>TV-Show</td>\n    </tr>\n    <tr>\n      <th>30</th>\n      <td>Baki</td>\n      <td>2018–2020</td>\n      <td>[Animation, Action, Drama]</td>\n      <td>7.2</td>\n      <td>70</td>\n      <td>24.0</td>\n      <td>NaN</td>\n      <td>[Toshiki Hirano]</td>\n      <td>TV-Show</td>\n    </tr>\n    <tr>\n      <th>31</th>\n      <td>Bangkok Breaking</td>\n      <td>2021–</td>\n      <td>[Action, Crime, Drama]</td>\n      <td>NaN</td>\n      <td>NaN</td>\n      <td>NaN</td>\n      <td>NaN</td>\n      <td>[Kongkiat Khomsiri]</td>\n      <td>TV-Show</td>\n    </tr>\n    <tr>\n      <th>32</th>\n      <td>Barbarians</td>\n      <td>2020–</td>\n      <td>[Action, Adventure, Drama]</td>\n      <td>8.1</td>\n      <td>939</td>\n      <td>49.0</td>\n      <td>NaN</td>\n      <td>[Steve Saint Leger]</td>\n      <td>TV-Show</td>\n    </tr>\n    <tr>\n      <th>33</th>\n      <td>Battle Kitty</td>\n      <td>2022–</td>\n      <td>[Animation, Action, Adventure]</td>\n      <td>NaN</td>\n      <td>NaN</td>\n      <td>NaN</td>\n      <td>NaN</td>\n      <td>[]</td>\n      <td>TV-Show</td>\n    </tr>\n  </tbody>\n</table>\n</div>"
     },
     "execution_count": 851,
     "metadata": {},
     "output_type": "execute_result"
    }
   ],
   "source": [
    "# removing all the rows who don't have a year, rating, votes and duration data\n",
    "data = data[~(data[\"LABEL\"] == '')]\n",
    "data.head(30)"
   ],
   "metadata": {
    "collapsed": false,
    "pycharm": {
     "name": "#%%\n"
    }
   }
  },
  {
   "cell_type": "markdown",
   "source": [
    "## Dividing to TV shows and movies dataframes"
   ],
   "metadata": {
    "collapsed": false,
    "pycharm": {
     "name": "#%% md\n"
    }
   }
  },
  {
   "cell_type": "code",
   "execution_count": 869,
   "outputs": [
    {
     "data": {
      "text/plain": "                       TITLE RELEASE      END                           GENRE  \\\n0             13 Reasons Why    2017     2020      [Drama, Mystery, Thriller]   \n1                       1899    2022  Running        [Drama, History, Horror]   \n2   3Below: Tales of Arcadia    2018     2019  [Animation, Action, Adventure]   \n3                       50M2    2021  Running       [Comedy, Drama, Thriller]   \n4                     7Seeds    2019     2020  [Animation, Action, Adventure]   \n\n   RATING  VOTES  DURATION GROSS            DIRECTORS    LABEL  \n0     5.7  1,798      59.0   NaN    [Russell Mulcahy]  TV-Show  \n1     NaN    NaN       NaN   NaN      [Baran bo Odar]  TV-Show  \n2     7.9    143      22.0   NaN  [Andrew L. Schmidt]  TV-Show  \n3     6.9    148      51.0   NaN     [Selçuk Aydemir]  TV-Show  \n4     6.9     48      24.0   NaN                   []  TV-Show  ",
      "text/html": "<div>\n<style scoped>\n    .dataframe tbody tr th:only-of-type {\n        vertical-align: middle;\n    }\n\n    .dataframe tbody tr th {\n        vertical-align: top;\n    }\n\n    .dataframe thead th {\n        text-align: right;\n    }\n</style>\n<table border=\"1\" class=\"dataframe\">\n  <thead>\n    <tr style=\"text-align: right;\">\n      <th></th>\n      <th>TITLE</th>\n      <th>RELEASE</th>\n      <th>END</th>\n      <th>GENRE</th>\n      <th>RATING</th>\n      <th>VOTES</th>\n      <th>DURATION</th>\n      <th>GROSS</th>\n      <th>DIRECTORS</th>\n      <th>LABEL</th>\n    </tr>\n  </thead>\n  <tbody>\n    <tr>\n      <th>0</th>\n      <td>13 Reasons Why</td>\n      <td>2017</td>\n      <td>2020</td>\n      <td>[Drama, Mystery, Thriller]</td>\n      <td>5.7</td>\n      <td>1,798</td>\n      <td>59.0</td>\n      <td>NaN</td>\n      <td>[Russell Mulcahy]</td>\n      <td>TV-Show</td>\n    </tr>\n    <tr>\n      <th>1</th>\n      <td>1899</td>\n      <td>2022</td>\n      <td>Running</td>\n      <td>[Drama, History, Horror]</td>\n      <td>NaN</td>\n      <td>NaN</td>\n      <td>NaN</td>\n      <td>NaN</td>\n      <td>[Baran bo Odar]</td>\n      <td>TV-Show</td>\n    </tr>\n    <tr>\n      <th>2</th>\n      <td>3Below: Tales of Arcadia</td>\n      <td>2018</td>\n      <td>2019</td>\n      <td>[Animation, Action, Adventure]</td>\n      <td>7.9</td>\n      <td>143</td>\n      <td>22.0</td>\n      <td>NaN</td>\n      <td>[Andrew L. Schmidt]</td>\n      <td>TV-Show</td>\n    </tr>\n    <tr>\n      <th>3</th>\n      <td>50M2</td>\n      <td>2021</td>\n      <td>Running</td>\n      <td>[Comedy, Drama, Thriller]</td>\n      <td>6.9</td>\n      <td>148</td>\n      <td>51.0</td>\n      <td>NaN</td>\n      <td>[Selçuk Aydemir]</td>\n      <td>TV-Show</td>\n    </tr>\n    <tr>\n      <th>4</th>\n      <td>7Seeds</td>\n      <td>2019</td>\n      <td>2020</td>\n      <td>[Animation, Action, Adventure]</td>\n      <td>6.9</td>\n      <td>48</td>\n      <td>24.0</td>\n      <td>NaN</td>\n      <td>[]</td>\n      <td>TV-Show</td>\n    </tr>\n  </tbody>\n</table>\n</div>"
     },
     "execution_count": 869,
     "metadata": {},
     "output_type": "execute_result"
    }
   ],
   "source": [
    "# getting all the tv shows into a single df\n",
    "TVs = pd.DataFrame()\n",
    "TVs = data.loc[data[\"LABEL\"] == \"TV-Show\"].reset_index().drop(columns=[\"index\"])\n",
    "TVs[\"YEAR\"] = TVs[\"YEAR\"].str.split('–')\n",
    "for index, cell in TVs[\"YEAR\"].items():\n",
    "    if TVs[\"YEAR\"][index][1] == '': TVs[\"YEAR\"][index][1] = 'Running'\n",
    "\n",
    "TVs[['RELEASE', 'END']] = TVs['YEAR'].apply(pd.Series)\n",
    "TVs.drop(columns=[\"YEAR\"], inplace = True)\n",
    "TVs.insert(1, 'RELEASE', TVs.pop('RELEASE'))\n",
    "TVs.insert(2, 'END', TVs.pop('END'))\n",
    "TVs.head()"
   ],
   "metadata": {
    "collapsed": false,
    "pycharm": {
     "name": "#%%\n"
    }
   }
  },
  {
   "cell_type": "code",
   "execution_count": 853,
   "outputs": [
    {
     "data": {
      "text/plain": "                        TITLE  YEAR                           GENRE  RATING  \\\n0   AlRawabi School for Girls  2021                         [Drama]     NaN   \n1     Alguien tiene que morir  2020        [Crime, Drama, Thriller]     6.8   \n2              Astronomy Club  2019                        [Comedy]     6.4   \n3                     Astérix  2023  [Animation, Action, Adventure]     NaN   \n4             Behind Her Eyes  2021      [Drama, Mystery, Thriller]     7.0   \n\n   VOTES  DURATION GROSS                          DIRECTORS  LABEL  \n0    NaN       NaN   NaN                     [Tima Shomali]  Movie  \n1    204      49.0   NaN                      [Manolo Caro]  Movie  \n2     38       NaN   NaN  [J.J. Adler, Ryan Anthony Martin]  Movie  \n3    NaN       NaN   NaN                                 []  Movie  \n4  1,129      50.0   NaN              [Erik Richter Strand]  Movie  ",
      "text/html": "<div>\n<style scoped>\n    .dataframe tbody tr th:only-of-type {\n        vertical-align: middle;\n    }\n\n    .dataframe tbody tr th {\n        vertical-align: top;\n    }\n\n    .dataframe thead th {\n        text-align: right;\n    }\n</style>\n<table border=\"1\" class=\"dataframe\">\n  <thead>\n    <tr style=\"text-align: right;\">\n      <th></th>\n      <th>TITLE</th>\n      <th>YEAR</th>\n      <th>GENRE</th>\n      <th>RATING</th>\n      <th>VOTES</th>\n      <th>DURATION</th>\n      <th>GROSS</th>\n      <th>DIRECTORS</th>\n      <th>LABEL</th>\n    </tr>\n  </thead>\n  <tbody>\n    <tr>\n      <th>0</th>\n      <td>AlRawabi School for Girls</td>\n      <td>2021</td>\n      <td>[Drama]</td>\n      <td>NaN</td>\n      <td>NaN</td>\n      <td>NaN</td>\n      <td>NaN</td>\n      <td>[Tima Shomali]</td>\n      <td>Movie</td>\n    </tr>\n    <tr>\n      <th>1</th>\n      <td>Alguien tiene que morir</td>\n      <td>2020</td>\n      <td>[Crime, Drama, Thriller]</td>\n      <td>6.8</td>\n      <td>204</td>\n      <td>49.0</td>\n      <td>NaN</td>\n      <td>[Manolo Caro]</td>\n      <td>Movie</td>\n    </tr>\n    <tr>\n      <th>2</th>\n      <td>Astronomy Club</td>\n      <td>2019</td>\n      <td>[Comedy]</td>\n      <td>6.4</td>\n      <td>38</td>\n      <td>NaN</td>\n      <td>NaN</td>\n      <td>[J.J. Adler, Ryan Anthony Martin]</td>\n      <td>Movie</td>\n    </tr>\n    <tr>\n      <th>3</th>\n      <td>Astérix</td>\n      <td>2023</td>\n      <td>[Animation, Action, Adventure]</td>\n      <td>NaN</td>\n      <td>NaN</td>\n      <td>NaN</td>\n      <td>NaN</td>\n      <td>[]</td>\n      <td>Movie</td>\n    </tr>\n    <tr>\n      <th>4</th>\n      <td>Behind Her Eyes</td>\n      <td>2021</td>\n      <td>[Drama, Mystery, Thriller]</td>\n      <td>7.0</td>\n      <td>1,129</td>\n      <td>50.0</td>\n      <td>NaN</td>\n      <td>[Erik Richter Strand]</td>\n      <td>Movie</td>\n    </tr>\n  </tbody>\n</table>\n</div>"
     },
     "execution_count": 853,
     "metadata": {},
     "output_type": "execute_result"
    }
   ],
   "source": [
    "# getting all the movies into a single df\n",
    "Movies = pd.DataFrame()\n",
    "Movies = data.loc[data[\"LABEL\"] == \"Movie\"].reset_index().drop(columns=[\"index\"])\n",
    "Movies.head()"
   ],
   "metadata": {
    "collapsed": false,
    "pycharm": {
     "name": "#%%\n"
    }
   }
  },
  {
   "cell_type": "markdown",
   "source": [
    "## Dealing with blanks"
   ],
   "metadata": {
    "collapsed": false,
    "pycharm": {
     "name": "#%% md\n"
    }
   }
  },
  {
   "cell_type": "markdown",
   "source": [
    "#### getting a grasp: https://towardsdatascience.com/data-cleaning-with-python-and-pandas-detecting-missing-values-3e9c6ebcf78b\n",
    "#### methods of dealing with missing data: https://github.com/matthewbrems/ODSC-missing-data-may-18/blob/master/Analysis%20with%20Missing%20Data.pdf"
   ],
   "metadata": {
    "collapsed": false,
    "pycharm": {
     "name": "#%% md\n"
    }
   }
  },
  {
   "cell_type": "code",
   "execution_count": 854,
   "outputs": [],
   "source": [
    "## dealing with the blanks\n"
   ],
   "metadata": {
    "collapsed": false,
    "pycharm": {
     "name": "#%%\n"
    }
   }
  },
  {
   "cell_type": "markdown",
   "source": [],
   "metadata": {
    "collapsed": false,
    "pycharm": {
     "name": "#%% md\n"
    }
   }
  }
 ],
 "metadata": {
  "kernelspec": {
   "display_name": "Python 3",
   "language": "python",
   "name": "python3"
  },
  "language_info": {
   "codemirror_mode": {
    "name": "ipython",
    "version": 2
   },
   "file_extension": ".py",
   "mimetype": "text/x-python",
   "name": "python",
   "nbconvert_exporter": "python",
   "pygments_lexer": "ipython2",
   "version": "2.7.6"
  }
 },
 "nbformat": 4,
 "nbformat_minor": 0
}