{
 "cells": [
  {
   "cell_type": "markdown",
   "source": [
    "# Movies Analysis\n",
    "### Dataset taken from Kaggle"
   ],
   "metadata": {
    "collapsed": false,
    "pycharm": {
     "name": "#%% md\n"
    }
   }
  },
  {
   "cell_type": "markdown",
   "source": [
    "## Imports"
   ],
   "metadata": {
    "collapsed": false,
    "pycharm": {
     "name": "#%% md\n"
    }
   }
  },
  {
   "cell_type": "code",
   "execution_count": 117,
   "outputs": [],
   "source": [
    "import pandas as pd\n",
    "import numpy as np"
   ],
   "metadata": {
    "collapsed": false,
    "pycharm": {
     "name": "#%%\n"
    }
   }
  },
  {
   "cell_type": "code",
   "execution_count": 118,
   "outputs": [
    {
     "data": {
      "text/plain": "                                MOVIES         YEAR  \\\n0                        Blood Red Sky       (2021)   \n1  Masters of the Universe: Revelation     (2021– )   \n2                     The Walking Dead  (2010–2022)   \n3                       Rick and Morty     (2013– )   \n4                      Army of Thieves       (2021)   \n\n                                        GENRE  RATING  \\\n0      \\nAction, Horror, Thriller                 6.1   \n1  \\nAnimation, Action, Adventure                 5.0   \n2       \\nDrama, Horror, Thriller                 8.2   \n3  \\nAnimation, Adventure, Comedy                 9.2   \n4         \\nAction, Crime, Horror                 NaN   \n\n                                            ONE-LINE  \\\n0  \\nA woman with a mysterious illness is forced ...   \n1  \\nThe war for Eternia begins again in what may...   \n2  \\nSheriff Deputy Rick Grimes wakes up from a c...   \n3  \\nAn animated series that follows the exploits...   \n4  \\nA prequel, set before the events of Army of ...   \n\n                                               STARS    VOTES  RunTime Gross  \n0  \\n    Director:\\nPeter Thorwarth\\n| \\n    Star...   21,062    121.0   NaN  \n1  \\n            \\n    Stars:\\nChris Wood, \\nSara...   17,870     25.0   NaN  \n2  \\n            \\n    Stars:\\nAndrew Lincoln, \\n...  885,805     44.0   NaN  \n3  \\n            \\n    Stars:\\nJustin Roiland, \\n...  414,849     23.0   NaN  \n4  \\n    Director:\\nMatthias Schweighöfer\\n| \\n  ...      NaN      NaN   NaN  ",
      "text/html": "<div>\n<style scoped>\n    .dataframe tbody tr th:only-of-type {\n        vertical-align: middle;\n    }\n\n    .dataframe tbody tr th {\n        vertical-align: top;\n    }\n\n    .dataframe thead th {\n        text-align: right;\n    }\n</style>\n<table border=\"1\" class=\"dataframe\">\n  <thead>\n    <tr style=\"text-align: right;\">\n      <th></th>\n      <th>MOVIES</th>\n      <th>YEAR</th>\n      <th>GENRE</th>\n      <th>RATING</th>\n      <th>ONE-LINE</th>\n      <th>STARS</th>\n      <th>VOTES</th>\n      <th>RunTime</th>\n      <th>Gross</th>\n    </tr>\n  </thead>\n  <tbody>\n    <tr>\n      <th>0</th>\n      <td>Blood Red Sky</td>\n      <td>(2021)</td>\n      <td>\\nAction, Horror, Thriller</td>\n      <td>6.1</td>\n      <td>\\nA woman with a mysterious illness is forced ...</td>\n      <td>\\n    Director:\\nPeter Thorwarth\\n| \\n    Star...</td>\n      <td>21,062</td>\n      <td>121.0</td>\n      <td>NaN</td>\n    </tr>\n    <tr>\n      <th>1</th>\n      <td>Masters of the Universe: Revelation</td>\n      <td>(2021– )</td>\n      <td>\\nAnimation, Action, Adventure</td>\n      <td>5.0</td>\n      <td>\\nThe war for Eternia begins again in what may...</td>\n      <td>\\n            \\n    Stars:\\nChris Wood, \\nSara...</td>\n      <td>17,870</td>\n      <td>25.0</td>\n      <td>NaN</td>\n    </tr>\n    <tr>\n      <th>2</th>\n      <td>The Walking Dead</td>\n      <td>(2010–2022)</td>\n      <td>\\nDrama, Horror, Thriller</td>\n      <td>8.2</td>\n      <td>\\nSheriff Deputy Rick Grimes wakes up from a c...</td>\n      <td>\\n            \\n    Stars:\\nAndrew Lincoln, \\n...</td>\n      <td>885,805</td>\n      <td>44.0</td>\n      <td>NaN</td>\n    </tr>\n    <tr>\n      <th>3</th>\n      <td>Rick and Morty</td>\n      <td>(2013– )</td>\n      <td>\\nAnimation, Adventure, Comedy</td>\n      <td>9.2</td>\n      <td>\\nAn animated series that follows the exploits...</td>\n      <td>\\n            \\n    Stars:\\nJustin Roiland, \\n...</td>\n      <td>414,849</td>\n      <td>23.0</td>\n      <td>NaN</td>\n    </tr>\n    <tr>\n      <th>4</th>\n      <td>Army of Thieves</td>\n      <td>(2021)</td>\n      <td>\\nAction, Crime, Horror</td>\n      <td>NaN</td>\n      <td>\\nA prequel, set before the events of Army of ...</td>\n      <td>\\n    Director:\\nMatthias Schweighöfer\\n| \\n  ...</td>\n      <td>NaN</td>\n      <td>NaN</td>\n      <td>NaN</td>\n    </tr>\n  </tbody>\n</table>\n</div>"
     },
     "execution_count": 118,
     "metadata": {},
     "output_type": "execute_result"
    }
   ],
   "source": [
    "def load_data(loc: str) -> pd.DataFrame:\n",
    "    \"\"\"\n",
    "    :param loc: location of the dataset file\n",
    "    :return: pandas dataframe loaded with the dataset\n",
    "    \"\"\"\n",
    "    return pd.read_csv(loc)\n",
    "\n",
    "location = r\"C:\\Users\\Yonat\\OneDrive\\Desktop\\python_projects\\movies_analysis\\movies.csv\"\n",
    "data = load_data(location)\n",
    "data.head()"
   ],
   "metadata": {
    "collapsed": false,
    "pycharm": {
     "name": "#%%\n"
    }
   }
  },
  {
   "cell_type": "markdown",
   "source": [
    "## Changing Columns"
   ],
   "metadata": {
    "collapsed": false,
    "pycharm": {
     "name": "#%% md\n"
    }
   }
  },
  {
   "cell_type": "code",
   "execution_count": 119,
   "outputs": [
    {
     "data": {
      "text/plain": "                                 TITLE         YEAR  \\\n0                        Blood Red Sky       (2021)   \n1  Masters of the Universe: Revelation     (2021– )   \n2                     The Walking Dead  (2010–2022)   \n3                       Rick and Morty     (2013– )   \n4                      Army of Thieves       (2021)   \n\n                                        GENRE  RATING  \\\n0      \\nAction, Horror, Thriller                 6.1   \n1  \\nAnimation, Action, Adventure                 5.0   \n2       \\nDrama, Horror, Thriller                 8.2   \n3  \\nAnimation, Adventure, Comedy                 9.2   \n4         \\nAction, Crime, Horror                 NaN   \n\n                                               STARS    VOTES  DURATION GROSS  \n0  \\n    Director:\\nPeter Thorwarth\\n| \\n    Star...   21,062     121.0   NaN  \n1  \\n            \\n    Stars:\\nChris Wood, \\nSara...   17,870      25.0   NaN  \n2  \\n            \\n    Stars:\\nAndrew Lincoln, \\n...  885,805      44.0   NaN  \n3  \\n            \\n    Stars:\\nJustin Roiland, \\n...  414,849      23.0   NaN  \n4  \\n    Director:\\nMatthias Schweighöfer\\n| \\n  ...      NaN       NaN   NaN  ",
      "text/html": "<div>\n<style scoped>\n    .dataframe tbody tr th:only-of-type {\n        vertical-align: middle;\n    }\n\n    .dataframe tbody tr th {\n        vertical-align: top;\n    }\n\n    .dataframe thead th {\n        text-align: right;\n    }\n</style>\n<table border=\"1\" class=\"dataframe\">\n  <thead>\n    <tr style=\"text-align: right;\">\n      <th></th>\n      <th>TITLE</th>\n      <th>YEAR</th>\n      <th>GENRE</th>\n      <th>RATING</th>\n      <th>STARS</th>\n      <th>VOTES</th>\n      <th>DURATION</th>\n      <th>GROSS</th>\n    </tr>\n  </thead>\n  <tbody>\n    <tr>\n      <th>0</th>\n      <td>Blood Red Sky</td>\n      <td>(2021)</td>\n      <td>\\nAction, Horror, Thriller</td>\n      <td>6.1</td>\n      <td>\\n    Director:\\nPeter Thorwarth\\n| \\n    Star...</td>\n      <td>21,062</td>\n      <td>121.0</td>\n      <td>NaN</td>\n    </tr>\n    <tr>\n      <th>1</th>\n      <td>Masters of the Universe: Revelation</td>\n      <td>(2021– )</td>\n      <td>\\nAnimation, Action, Adventure</td>\n      <td>5.0</td>\n      <td>\\n            \\n    Stars:\\nChris Wood, \\nSara...</td>\n      <td>17,870</td>\n      <td>25.0</td>\n      <td>NaN</td>\n    </tr>\n    <tr>\n      <th>2</th>\n      <td>The Walking Dead</td>\n      <td>(2010–2022)</td>\n      <td>\\nDrama, Horror, Thriller</td>\n      <td>8.2</td>\n      <td>\\n            \\n    Stars:\\nAndrew Lincoln, \\n...</td>\n      <td>885,805</td>\n      <td>44.0</td>\n      <td>NaN</td>\n    </tr>\n    <tr>\n      <th>3</th>\n      <td>Rick and Morty</td>\n      <td>(2013– )</td>\n      <td>\\nAnimation, Adventure, Comedy</td>\n      <td>9.2</td>\n      <td>\\n            \\n    Stars:\\nJustin Roiland, \\n...</td>\n      <td>414,849</td>\n      <td>23.0</td>\n      <td>NaN</td>\n    </tr>\n    <tr>\n      <th>4</th>\n      <td>Army of Thieves</td>\n      <td>(2021)</td>\n      <td>\\nAction, Crime, Horror</td>\n      <td>NaN</td>\n      <td>\\n    Director:\\nMatthias Schweighöfer\\n| \\n  ...</td>\n      <td>NaN</td>\n      <td>NaN</td>\n      <td>NaN</td>\n    </tr>\n  </tbody>\n</table>\n</div>"
     },
     "execution_count": 119,
     "metadata": {},
     "output_type": "execute_result"
    }
   ],
   "source": [
    "# Removing unnecessary columns\n",
    "to_drop = ['ONE-LINE']\n",
    "data.drop(columns = to_drop, axis=1, inplace=True)\n",
    "\n",
    "# Renaming columns\n",
    "new_names = {'MOVIES': 'TITLE',\n",
    "             'RunTime': 'DURATION',\n",
    "             'Gross': 'GROSS'}\n",
    "data.rename(columns = new_names, inplace= True)\n",
    "\n",
    "data.head()"
   ],
   "metadata": {
    "collapsed": false,
    "pycharm": {
     "name": "#%%\n"
    }
   }
  },
  {
   "cell_type": "markdown",
   "source": [
    "## Filling blanks\n",
    "#### getting a grasp: https://towardsdatascience.com/data-cleaning-with-python-and-pandas-detecting-missing-values-3e9c6ebcf78b\n",
    "#### methods of dealing with missing data: https://github.com/matthewbrems/ODSC-missing-data-may-18/blob/master/Analysis%20with%20Missing%20Data.pdf"
   ],
   "metadata": {
    "collapsed": false,
    "pycharm": {
     "name": "#%% md\n"
    }
   }
  },
  {
   "cell_type": "code",
   "execution_count": 122,
   "outputs": [],
   "source": [
    "# getting a grasp of the data\n",
    "cols = ['Column Name', 'Blanks', 'Datatype']\n",
    "side_df = pd.DataFrame(columns=cols)\n",
    "side_df['Column Name'] = data.columns\n",
    "\n",
    "for col in data.columns:\n",
    "    side_df.loc[side_df['Column Name'] == col, 'Datatype'] = data[col].dtype\n",
    "\n",
    "    blank_count = data[col].isnull().sum() # Counting null values\n",
    "    blank_count += data[col].isna().sum()  # Counting nan values\n",
    "    additional_blanks = data[col].isin(['', ' ', '-', '--']).sum() # Additional conditions for other representations of blanks ('-', '--', etc.)\n",
    "    blank_count += additional_blanks\n",
    "\n",
    "    side_df.loc[side_df['Column Name'] == col, 'Blanks'] = blank_count"
   ],
   "metadata": {
    "collapsed": false,
    "pycharm": {
     "name": "#%%\n"
    }
   }
  },
  {
   "cell_type": "code",
   "execution_count": 123,
   "outputs": [
    {
     "data": {
      "text/plain": "  Column Name Blanks Datatype\n0       TITLE      0   object\n1        YEAR   1288   object\n2       GENRE    160   object\n3      RATING   3640  float64\n4       STARS      0   object\n5       VOTES   3640   object\n6    DURATION   5916  float64\n7       GROSS  19078   object",
      "text/html": "<div>\n<style scoped>\n    .dataframe tbody tr th:only-of-type {\n        vertical-align: middle;\n    }\n\n    .dataframe tbody tr th {\n        vertical-align: top;\n    }\n\n    .dataframe thead th {\n        text-align: right;\n    }\n</style>\n<table border=\"1\" class=\"dataframe\">\n  <thead>\n    <tr style=\"text-align: right;\">\n      <th></th>\n      <th>Column Name</th>\n      <th>Blanks</th>\n      <th>Datatype</th>\n    </tr>\n  </thead>\n  <tbody>\n    <tr>\n      <th>0</th>\n      <td>TITLE</td>\n      <td>0</td>\n      <td>object</td>\n    </tr>\n    <tr>\n      <th>1</th>\n      <td>YEAR</td>\n      <td>1288</td>\n      <td>object</td>\n    </tr>\n    <tr>\n      <th>2</th>\n      <td>GENRE</td>\n      <td>160</td>\n      <td>object</td>\n    </tr>\n    <tr>\n      <th>3</th>\n      <td>RATING</td>\n      <td>3640</td>\n      <td>float64</td>\n    </tr>\n    <tr>\n      <th>4</th>\n      <td>STARS</td>\n      <td>0</td>\n      <td>object</td>\n    </tr>\n    <tr>\n      <th>5</th>\n      <td>VOTES</td>\n      <td>3640</td>\n      <td>object</td>\n    </tr>\n    <tr>\n      <th>6</th>\n      <td>DURATION</td>\n      <td>5916</td>\n      <td>float64</td>\n    </tr>\n    <tr>\n      <th>7</th>\n      <td>GROSS</td>\n      <td>19078</td>\n      <td>object</td>\n    </tr>\n  </tbody>\n</table>\n</div>"
     },
     "execution_count": 123,
     "metadata": {},
     "output_type": "execute_result"
    }
   ],
   "source": [
    "side_df"
   ],
   "metadata": {
    "collapsed": false,
    "pycharm": {
     "name": "#%%\n"
    }
   }
  },
  {
   "cell_type": "code",
   "execution_count": 124,
   "outputs": [
    {
     "name": "stdout",
     "output_type": "stream",
     "text": [
      "Hello world\n"
     ]
    }
   ],
   "source": [
    "# Removing blanks\n",
    "print(\"Hello world\")"
   ],
   "metadata": {
    "collapsed": false,
    "pycharm": {
     "name": "#%%\n"
    }
   }
  },
  {
   "cell_type": "markdown",
   "source": [
    "## Dividing to TV shows and movies dataframes"
   ],
   "metadata": {
    "collapsed": false,
    "pycharm": {
     "name": "#%% md\n"
    }
   }
  }
 ],
 "metadata": {
  "kernelspec": {
   "display_name": "Python 3",
   "language": "python",
   "name": "python3"
  },
  "language_info": {
   "codemirror_mode": {
    "name": "ipython",
    "version": 2
   },
   "file_extension": ".py",
   "mimetype": "text/x-python",
   "name": "python",
   "nbconvert_exporter": "python",
   "pygments_lexer": "ipython2",
   "version": "2.7.6"
  }
 },
 "nbformat": 4,
 "nbformat_minor": 0
}