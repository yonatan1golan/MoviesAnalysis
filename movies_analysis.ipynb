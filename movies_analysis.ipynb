{
 "cells": [
  {
   "cell_type": "markdown",
   "source": [
    "### Movies Analysis"
   ],
   "metadata": {
    "collapsed": false,
    "pycharm": {
     "name": "#%% md\n"
    }
   }
  },
  {
   "cell_type": "markdown",
   "source": [
    "#### Dataset taken from Kaggle"
   ],
   "metadata": {
    "collapsed": false,
    "pycharm": {
     "name": "#%% md\n"
    }
   }
  },
  {
   "cell_type": "markdown",
   "source": [
    "#### imports\n",
    "##### TODO add requirements file"
   ],
   "metadata": {
    "collapsed": false,
    "pycharm": {
     "name": "#%% md\n"
    }
   }
  },
  {
   "cell_type": "code",
   "execution_count": 7,
   "outputs": [],
   "source": [
    "import pandas as pd"
   ],
   "metadata": {
    "collapsed": false,
    "pycharm": {
     "name": "#%%\n"
    }
   }
  },
  {
   "cell_type": "code",
   "execution_count": 9,
   "outputs": [
    {
     "data": {
      "text/plain": "                                   MOVIES         YEAR  \\\n0                           Blood Red Sky       (2021)   \n1     Masters of the Universe: Revelation     (2021– )   \n2                        The Walking Dead  (2010–2022)   \n3                          Rick and Morty     (2013– )   \n4                         Army of Thieves       (2021)   \n...                                   ...          ...   \n9994                       The Imperfects     (2021– )   \n9995                               Arcane     (2021– )   \n9996                    Heart of Invictus     (2022– )   \n9997                       The Imperfects     (2021– )   \n9998                       The Imperfects     (2021– )   \n\n                                           GENRE  RATING  \\\n0         \\nAction, Horror, Thriller                 6.1   \n1     \\nAnimation, Action, Adventure                 5.0   \n2          \\nDrama, Horror, Thriller                 8.2   \n3     \\nAnimation, Adventure, Comedy                 9.2   \n4            \\nAction, Crime, Horror                 NaN   \n...                                          ...     ...   \n9994     \\nAdventure, Drama, Fantasy                 NaN   \n9995  \\nAnimation, Action, Adventure                 NaN   \n9996            \\nDocumentary, Sport                 NaN   \n9997     \\nAdventure, Drama, Fantasy                 NaN   \n9998     \\nAdventure, Drama, Fantasy                 NaN   \n\n                                               ONE-LINE  \\\n0     \\nA woman with a mysterious illness is forced ...   \n1     \\nThe war for Eternia begins again in what may...   \n2     \\nSheriff Deputy Rick Grimes wakes up from a c...   \n3     \\nAn animated series that follows the exploits...   \n4     \\nA prequel, set before the events of Army of ...   \n...                                                 ...   \n9994                                     \\nAdd a Plot\\n   \n9995                                     \\nAdd a Plot\\n   \n9996                                     \\nAdd a Plot\\n   \n9997                                     \\nAdd a Plot\\n   \n9998                                     \\nAdd a Plot\\n   \n\n                                                  STARS    VOTES  RunTime  \\\n0     \\n    Director:\\nPeter Thorwarth\\n| \\n    Star...   21,062    121.0   \n1     \\n            \\n    Stars:\\nChris Wood, \\nSara...   17,870     25.0   \n2     \\n            \\n    Stars:\\nAndrew Lincoln, \\n...  885,805     44.0   \n3     \\n            \\n    Stars:\\nJustin Roiland, \\n...  414,849     23.0   \n4     \\n    Director:\\nMatthias Schweighöfer\\n| \\n  ...      NaN      NaN   \n...                                                 ...      ...      ...   \n9994  \\n            \\n    Stars:\\nMorgan Taylor Camp...      NaN      NaN   \n9995                                                 \\n      NaN      NaN   \n9996  \\n    Director:\\nOrlando von Einsiedel\\n| \\n  ...      NaN      NaN   \n9997  \\n    Director:\\nJovanka Vuckovic\\n| \\n    Sta...      NaN      NaN   \n9998  \\n    Director:\\nJovanka Vuckovic\\n| \\n    Sta...      NaN      NaN   \n\n     Gross  \n0      NaN  \n1      NaN  \n2      NaN  \n3      NaN  \n4      NaN  \n...    ...  \n9994   NaN  \n9995   NaN  \n9996   NaN  \n9997   NaN  \n9998   NaN  \n\n[9999 rows x 9 columns]",
      "text/html": "<div>\n<style scoped>\n    .dataframe tbody tr th:only-of-type {\n        vertical-align: middle;\n    }\n\n    .dataframe tbody tr th {\n        vertical-align: top;\n    }\n\n    .dataframe thead th {\n        text-align: right;\n    }\n</style>\n<table border=\"1\" class=\"dataframe\">\n  <thead>\n    <tr style=\"text-align: right;\">\n      <th></th>\n      <th>MOVIES</th>\n      <th>YEAR</th>\n      <th>GENRE</th>\n      <th>RATING</th>\n      <th>ONE-LINE</th>\n      <th>STARS</th>\n      <th>VOTES</th>\n      <th>RunTime</th>\n      <th>Gross</th>\n    </tr>\n  </thead>\n  <tbody>\n    <tr>\n      <th>0</th>\n      <td>Blood Red Sky</td>\n      <td>(2021)</td>\n      <td>\\nAction, Horror, Thriller</td>\n      <td>6.1</td>\n      <td>\\nA woman with a mysterious illness is forced ...</td>\n      <td>\\n    Director:\\nPeter Thorwarth\\n| \\n    Star...</td>\n      <td>21,062</td>\n      <td>121.0</td>\n      <td>NaN</td>\n    </tr>\n    <tr>\n      <th>1</th>\n      <td>Masters of the Universe: Revelation</td>\n      <td>(2021– )</td>\n      <td>\\nAnimation, Action, Adventure</td>\n      <td>5.0</td>\n      <td>\\nThe war for Eternia begins again in what may...</td>\n      <td>\\n            \\n    Stars:\\nChris Wood, \\nSara...</td>\n      <td>17,870</td>\n      <td>25.0</td>\n      <td>NaN</td>\n    </tr>\n    <tr>\n      <th>2</th>\n      <td>The Walking Dead</td>\n      <td>(2010–2022)</td>\n      <td>\\nDrama, Horror, Thriller</td>\n      <td>8.2</td>\n      <td>\\nSheriff Deputy Rick Grimes wakes up from a c...</td>\n      <td>\\n            \\n    Stars:\\nAndrew Lincoln, \\n...</td>\n      <td>885,805</td>\n      <td>44.0</td>\n      <td>NaN</td>\n    </tr>\n    <tr>\n      <th>3</th>\n      <td>Rick and Morty</td>\n      <td>(2013– )</td>\n      <td>\\nAnimation, Adventure, Comedy</td>\n      <td>9.2</td>\n      <td>\\nAn animated series that follows the exploits...</td>\n      <td>\\n            \\n    Stars:\\nJustin Roiland, \\n...</td>\n      <td>414,849</td>\n      <td>23.0</td>\n      <td>NaN</td>\n    </tr>\n    <tr>\n      <th>4</th>\n      <td>Army of Thieves</td>\n      <td>(2021)</td>\n      <td>\\nAction, Crime, Horror</td>\n      <td>NaN</td>\n      <td>\\nA prequel, set before the events of Army of ...</td>\n      <td>\\n    Director:\\nMatthias Schweighöfer\\n| \\n  ...</td>\n      <td>NaN</td>\n      <td>NaN</td>\n      <td>NaN</td>\n    </tr>\n    <tr>\n      <th>...</th>\n      <td>...</td>\n      <td>...</td>\n      <td>...</td>\n      <td>...</td>\n      <td>...</td>\n      <td>...</td>\n      <td>...</td>\n      <td>...</td>\n      <td>...</td>\n    </tr>\n    <tr>\n      <th>9994</th>\n      <td>The Imperfects</td>\n      <td>(2021– )</td>\n      <td>\\nAdventure, Drama, Fantasy</td>\n      <td>NaN</td>\n      <td>\\nAdd a Plot\\n</td>\n      <td>\\n            \\n    Stars:\\nMorgan Taylor Camp...</td>\n      <td>NaN</td>\n      <td>NaN</td>\n      <td>NaN</td>\n    </tr>\n    <tr>\n      <th>9995</th>\n      <td>Arcane</td>\n      <td>(2021– )</td>\n      <td>\\nAnimation, Action, Adventure</td>\n      <td>NaN</td>\n      <td>\\nAdd a Plot\\n</td>\n      <td>\\n</td>\n      <td>NaN</td>\n      <td>NaN</td>\n      <td>NaN</td>\n    </tr>\n    <tr>\n      <th>9996</th>\n      <td>Heart of Invictus</td>\n      <td>(2022– )</td>\n      <td>\\nDocumentary, Sport</td>\n      <td>NaN</td>\n      <td>\\nAdd a Plot\\n</td>\n      <td>\\n    Director:\\nOrlando von Einsiedel\\n| \\n  ...</td>\n      <td>NaN</td>\n      <td>NaN</td>\n      <td>NaN</td>\n    </tr>\n    <tr>\n      <th>9997</th>\n      <td>The Imperfects</td>\n      <td>(2021– )</td>\n      <td>\\nAdventure, Drama, Fantasy</td>\n      <td>NaN</td>\n      <td>\\nAdd a Plot\\n</td>\n      <td>\\n    Director:\\nJovanka Vuckovic\\n| \\n    Sta...</td>\n      <td>NaN</td>\n      <td>NaN</td>\n      <td>NaN</td>\n    </tr>\n    <tr>\n      <th>9998</th>\n      <td>The Imperfects</td>\n      <td>(2021– )</td>\n      <td>\\nAdventure, Drama, Fantasy</td>\n      <td>NaN</td>\n      <td>\\nAdd a Plot\\n</td>\n      <td>\\n    Director:\\nJovanka Vuckovic\\n| \\n    Sta...</td>\n      <td>NaN</td>\n      <td>NaN</td>\n      <td>NaN</td>\n    </tr>\n  </tbody>\n</table>\n<p>9999 rows × 9 columns</p>\n</div>"
     },
     "execution_count": 9,
     "metadata": {},
     "output_type": "execute_result"
    }
   ],
   "source": [
    "def load_data(loc: str) -> pd.DataFrame:\n",
    "    \"\"\"\n",
    "    :param loc: loocation of the dataset file\n",
    "    :return: pandas dataframe loaded with the dataset\n",
    "    \"\"\"\n",
    "    return pd.read_csv(loc)\n",
    "\n",
    "location = r\"C:\\Users\\Yonat\\OneDrive\\Desktop\\python_projects\\movies_analysis\\movies.csv\"\n",
    "data = load_data(location)\n",
    "data"
   ],
   "metadata": {
    "collapsed": false,
    "pycharm": {
     "name": "#%%\n"
    }
   }
  },
  {
   "cell_type": "code",
   "execution_count": 9,
   "outputs": [],
   "source": [
    "\n"
   ],
   "metadata": {
    "collapsed": false,
    "pycharm": {
     "name": "#%%\n"
    }
   }
  }
 ],
 "metadata": {
  "kernelspec": {
   "display_name": "Python 3",
   "language": "python",
   "name": "python3"
  },
  "language_info": {
   "codemirror_mode": {
    "name": "ipython",
    "version": 2
   },
   "file_extension": ".py",
   "mimetype": "text/x-python",
   "name": "python",
   "nbconvert_exporter": "python",
   "pygments_lexer": "ipython2",
   "version": "2.7.6"
  }
 },
 "nbformat": 4,
 "nbformat_minor": 0
}